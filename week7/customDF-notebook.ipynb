{
 "cells": [
  {
   "cell_type": "code",
   "execution_count": 1,
   "id": "58e9bd63-37ab-4c50-b617-338ccbf1f1ac",
   "metadata": {},
   "outputs": [],
   "source": [
    "import pandas as pd \n",
    "import numpy as np "
   ]
  },
  {
   "cell_type": "code",
   "execution_count": null,
   "id": "b570c05f-4a8d-45a1-8f1d-092994b276fa",
   "metadata": {},
   "outputs": [],
   "source": [
    "y_axis_labels = ['Level', 'Strength']"
   ]
  },
  {
   "cell_type": "code",
   "execution_count": null,
   "id": "0e457404-35ec-4298-a776-f4a5bb04d266",
   "metadata": {},
   "outputs": [],
   "source": [
    "user_test_df = pd.DataFrame(np.random.randint(10, 2)*5,\n",
    "                            index=y_axis_labels,\n",
    "                            columns=[\"\n",
    "                            "
   ]
  },
  {
   "cell_type": "code",
   "execution_count": null,
   "id": "f2928e12-98cb-4e59-85b5-c681c000c24c",
   "metadata": {},
   "outputs": [],
   "source": [
    "weather_df = pd.DataFrame(np.random.rand(10,2)*5,\n",
    "                          index=pd.date_range(start=\"2021-01-01\", periods=10),\n",
    "                          columns=[\"Tokyo\", \"Beijing\"])"
   ]
  }
 ],
 "metadata": {
  "kernelspec": {
   "display_name": "Python 3 (ipykernel)",
   "language": "python",
   "name": "python3"
  },
  "language_info": {
   "codemirror_mode": {
    "name": "ipython",
    "version": 3
   },
   "file_extension": ".py",
   "mimetype": "text/x-python",
   "name": "python",
   "nbconvert_exporter": "python",
   "pygments_lexer": "ipython3",
   "version": "3.9.18"
  }
 },
 "nbformat": 4,
 "nbformat_minor": 5
}
